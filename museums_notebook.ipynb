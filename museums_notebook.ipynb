{
 "cells": [
  {
   "cell_type": "code",
   "execution_count": 92,
   "id": "d9746392-6aad-4ebd-a0d7-5a371d01b017",
   "metadata": {},
   "outputs": [
    {
     "name": "stderr",
     "output_type": "stream",
     "text": [
      "/var/folders/20/24nsj1xx7y52k8m90_h_2r5h0000gp/T/ipykernel_16820/339929785.py:3: DtypeWarning: Columns (9,14,21) have mixed types. Specify dtype option on import or set low_memory=False.\n",
      "  muse_df = pd.read_csv('museums.csv')\n"
     ]
    },
    {
     "name": "stdout",
     "output_type": "stream",
     "text": [
      "<class 'pandas.core.frame.DataFrame'>\n",
      "RangeIndex: 33071 entries, 0 to 33070\n",
      "Data columns (total 25 columns):\n",
      " #   Column                                    Non-Null Count  Dtype  \n",
      "---  ------                                    --------------  -----  \n",
      " 0   Museum ID                                 33071 non-null  int64  \n",
      " 1   Museum Name                               33071 non-null  object \n",
      " 2   Legal Name                                33071 non-null  object \n",
      " 3   Alternate Name                            1927 non-null   object \n",
      " 4   Museum Type                               33071 non-null  object \n",
      " 5   Institution Name                          2749 non-null   object \n",
      " 6   Street Address (Administrative Location)  33061 non-null  object \n",
      " 7   City (Administrative Location)            33071 non-null  object \n",
      " 8   State (Administrative Location)           33071 non-null  object \n",
      " 9   Zip Code (Administrative Location)        33071 non-null  object \n",
      " 10  Street Address (Physical Location)        9215 non-null   object \n",
      " 11  City (Physical Location)                  9222 non-null   object \n",
      " 12  State (Physical Location)                 9222 non-null   object \n",
      " 13  Zip Code (Physical Location)              9220 non-null   float64\n",
      " 14  Phone Number                              22931 non-null  object \n",
      " 15  Latitude                                  33006 non-null  float64\n",
      " 16  Longitude                                 33006 non-null  float64\n",
      " 17  Locale Code (NCES)                        32994 non-null  float64\n",
      " 18  County Code (FIPS)                        30535 non-null  float64\n",
      " 19  State Code (FIPS)                         33070 non-null  float64\n",
      " 20  Region Code (AAM)                         33071 non-null  int64  \n",
      " 21  Employer ID Number                        27553 non-null  object \n",
      " 22  Tax Period                                23279 non-null  float64\n",
      " 23  Income                                    22960 non-null  float64\n",
      " 24  Revenue                                   22289 non-null  float64\n",
      "dtypes: float64(9), int64(2), object(14)\n",
      "memory usage: 6.3+ MB\n"
     ]
    },
    {
     "data": {
      "text/html": [
       "<div>\n",
       "<style scoped>\n",
       "    .dataframe tbody tr th:only-of-type {\n",
       "        vertical-align: middle;\n",
       "    }\n",
       "\n",
       "    .dataframe tbody tr th {\n",
       "        vertical-align: top;\n",
       "    }\n",
       "\n",
       "    .dataframe thead th {\n",
       "        text-align: right;\n",
       "    }\n",
       "</style>\n",
       "<table border=\"1\" class=\"dataframe\">\n",
       "  <thead>\n",
       "    <tr style=\"text-align: right;\">\n",
       "      <th></th>\n",
       "      <th>Museum ID</th>\n",
       "      <th>Zip Code (Physical Location)</th>\n",
       "      <th>Latitude</th>\n",
       "      <th>Longitude</th>\n",
       "      <th>Locale Code (NCES)</th>\n",
       "      <th>County Code (FIPS)</th>\n",
       "      <th>State Code (FIPS)</th>\n",
       "      <th>Region Code (AAM)</th>\n",
       "      <th>Tax Period</th>\n",
       "      <th>Income</th>\n",
       "      <th>Revenue</th>\n",
       "    </tr>\n",
       "  </thead>\n",
       "  <tbody>\n",
       "    <tr>\n",
       "      <th>count</th>\n",
       "      <td>3.307100e+04</td>\n",
       "      <td>9220.000000</td>\n",
       "      <td>33006.000000</td>\n",
       "      <td>33006.000000</td>\n",
       "      <td>32994.000000</td>\n",
       "      <td>30535.000000</td>\n",
       "      <td>33070.000000</td>\n",
       "      <td>33071.000000</td>\n",
       "      <td>23279.000000</td>\n",
       "      <td>2.296000e+04</td>\n",
       "      <td>2.228900e+04</td>\n",
       "    </tr>\n",
       "    <tr>\n",
       "      <th>mean</th>\n",
       "      <td>8.403812e+09</td>\n",
       "      <td>47801.849024</td>\n",
       "      <td>38.925193</td>\n",
       "      <td>-90.816268</td>\n",
       "      <td>2.505819</td>\n",
       "      <td>85.703652</td>\n",
       "      <td>29.065014</td>\n",
       "      <td>3.670043</td>\n",
       "      <td>201347.460200</td>\n",
       "      <td>1.069728e+08</td>\n",
       "      <td>2.097708e+07</td>\n",
       "    </tr>\n",
       "    <tr>\n",
       "      <th>std</th>\n",
       "      <td>2.662564e+06</td>\n",
       "      <td>30209.704635</td>\n",
       "      <td>5.126188</td>\n",
       "      <td>16.489097</td>\n",
       "      <td>1.211856</td>\n",
       "      <td>105.669618</td>\n",
       "      <td>15.430777</td>\n",
       "      <td>1.539280</td>\n",
       "      <td>67.671726</td>\n",
       "      <td>2.509342e+09</td>\n",
       "      <td>2.485252e+08</td>\n",
       "    </tr>\n",
       "    <tr>\n",
       "      <th>min</th>\n",
       "      <td>8.400100e+09</td>\n",
       "      <td>1002.000000</td>\n",
       "      <td>0.000000</td>\n",
       "      <td>-166.541260</td>\n",
       "      <td>1.000000</td>\n",
       "      <td>1.000000</td>\n",
       "      <td>1.000000</td>\n",
       "      <td>1.000000</td>\n",
       "      <td>199906.000000</td>\n",
       "      <td>-9.230000e+02</td>\n",
       "      <td>-1.799709e+06</td>\n",
       "    </tr>\n",
       "    <tr>\n",
       "      <th>25%</th>\n",
       "      <td>8.401801e+09</td>\n",
       "      <td>20180.000000</td>\n",
       "      <td>35.567140</td>\n",
       "      <td>-97.650768</td>\n",
       "      <td>1.000000</td>\n",
       "      <td>25.000000</td>\n",
       "      <td>17.000000</td>\n",
       "      <td>2.000000</td>\n",
       "      <td>201312.000000</td>\n",
       "      <td>0.000000e+00</td>\n",
       "      <td>0.000000e+00</td>\n",
       "    </tr>\n",
       "    <tr>\n",
       "      <th>50%</th>\n",
       "      <td>8.403600e+09</td>\n",
       "      <td>47447.000000</td>\n",
       "      <td>39.831340</td>\n",
       "      <td>-86.776675</td>\n",
       "      <td>2.000000</td>\n",
       "      <td>61.000000</td>\n",
       "      <td>29.000000</td>\n",
       "      <td>4.000000</td>\n",
       "      <td>201312.000000</td>\n",
       "      <td>8.772500e+03</td>\n",
       "      <td>3.310000e+03</td>\n",
       "    </tr>\n",
       "    <tr>\n",
       "      <th>75%</th>\n",
       "      <td>8.404801e+09</td>\n",
       "      <td>74743.000000</td>\n",
       "      <td>42.237400</td>\n",
       "      <td>-77.616740</td>\n",
       "      <td>4.000000</td>\n",
       "      <td>109.000000</td>\n",
       "      <td>42.000000</td>\n",
       "      <td>5.000000</td>\n",
       "      <td>201408.000000</td>\n",
       "      <td>2.164410e+05</td>\n",
       "      <td>1.676960e+05</td>\n",
       "    </tr>\n",
       "    <tr>\n",
       "      <th>max</th>\n",
       "      <td>8.409504e+09</td>\n",
       "      <td>99901.000000</td>\n",
       "      <td>70.669760</td>\n",
       "      <td>0.000000</td>\n",
       "      <td>4.000000</td>\n",
       "      <td>840.000000</td>\n",
       "      <td>90.000000</td>\n",
       "      <td>6.000000</td>\n",
       "      <td>201504.000000</td>\n",
       "      <td>8.318144e+10</td>\n",
       "      <td>5.840349e+09</td>\n",
       "    </tr>\n",
       "  </tbody>\n",
       "</table>\n",
       "</div>"
      ],
      "text/plain": [
       "          Museum ID  Zip Code (Physical Location)      Latitude     Longitude  \\\n",
       "count  3.307100e+04                   9220.000000  33006.000000  33006.000000   \n",
       "mean   8.403812e+09                  47801.849024     38.925193    -90.816268   \n",
       "std    2.662564e+06                  30209.704635      5.126188     16.489097   \n",
       "min    8.400100e+09                   1002.000000      0.000000   -166.541260   \n",
       "25%    8.401801e+09                  20180.000000     35.567140    -97.650768   \n",
       "50%    8.403600e+09                  47447.000000     39.831340    -86.776675   \n",
       "75%    8.404801e+09                  74743.000000     42.237400    -77.616740   \n",
       "max    8.409504e+09                  99901.000000     70.669760      0.000000   \n",
       "\n",
       "       Locale Code (NCES)  County Code (FIPS)  State Code (FIPS)  \\\n",
       "count        32994.000000        30535.000000       33070.000000   \n",
       "mean             2.505819           85.703652          29.065014   \n",
       "std              1.211856          105.669618          15.430777   \n",
       "min              1.000000            1.000000           1.000000   \n",
       "25%              1.000000           25.000000          17.000000   \n",
       "50%              2.000000           61.000000          29.000000   \n",
       "75%              4.000000          109.000000          42.000000   \n",
       "max              4.000000          840.000000          90.000000   \n",
       "\n",
       "       Region Code (AAM)     Tax Period        Income       Revenue  \n",
       "count       33071.000000   23279.000000  2.296000e+04  2.228900e+04  \n",
       "mean            3.670043  201347.460200  1.069728e+08  2.097708e+07  \n",
       "std             1.539280      67.671726  2.509342e+09  2.485252e+08  \n",
       "min             1.000000  199906.000000 -9.230000e+02 -1.799709e+06  \n",
       "25%             2.000000  201312.000000  0.000000e+00  0.000000e+00  \n",
       "50%             4.000000  201312.000000  8.772500e+03  3.310000e+03  \n",
       "75%             5.000000  201408.000000  2.164410e+05  1.676960e+05  \n",
       "max             6.000000  201504.000000  8.318144e+10  5.840349e+09  "
      ]
     },
     "execution_count": 92,
     "metadata": {},
     "output_type": "execute_result"
    }
   ],
   "source": [
    "import pandas as pd\n",
    "\n",
    "muse_df = pd.read_csv('museums.csv')\n",
    "\n",
    "muse_df.info()\n",
    "\n",
    "muse_df.describe()\n",
    "\n",
    "\n",
    "\n"
   ]
  },
  {
   "cell_type": "code",
   "execution_count": 93,
   "id": "43e4404e",
   "metadata": {},
   "outputs": [
    {
     "name": "stdout",
     "output_type": "stream",
     "text": [
      "CA\n",
      "DE\n",
      "NEW YORK\n",
      "PAUPACH\n"
     ]
    },
    {
     "name": "stderr",
     "output_type": "stream",
     "text": [
      "/var/folders/20/24nsj1xx7y52k8m90_h_2r5h0000gp/T/ipykernel_16820/4257200135.py:1: DtypeWarning: Columns (9,14,21) have mixed types. Specify dtype option on import or set low_memory=False.\n",
      "  muse_df = pd.read_csv('museums.csv')\n"
     ]
    }
   ],
   "source": [
    "muse_df = pd.read_csv('museums.csv')\n",
    "\n",
    "state_count = muse_df['State (Administrative Location)'].value_counts()\n",
    "city_count = muse_df['City (Administrative Location)'].value_counts()\n",
    "\n",
    "\n",
    "# CA has the most museums per capita\n",
    "print(state_count.idxmax())\n",
    "\n",
    "# DE has the least museums per capita\n",
    "print(state_count.idxmin())\n",
    "\n",
    "# NYC has the most museums\n",
    "print(city_count.idxmax())   \n",
    "\n",
    "# Paupach has the least museums\n",
    "print(city_count.idxmin())\n",
    "\n",
    "\n"
   ]
  },
  {
   "cell_type": "code",
   "execution_count": 94,
   "id": "ca8532c8",
   "metadata": {},
   "outputs": [
    {
     "name": "stdout",
     "output_type": "stream",
     "text": [
      "Museum Type\n",
      "HISTORIC PRESERVATION                            14861\n",
      "GENERAL MUSEUM                                    8698\n",
      "ART MUSEUM                                        3241\n",
      "HISTORY MUSEUM                                    2284\n",
      "ARBORETUM, BOTANICAL GARDEN, OR NATURE CENTER     1484\n",
      "SCIENCE & TECHNOLOGY MUSEUM OR PLANETARIUM        1081\n",
      "ZOO, AQUARIUM, OR WILDLIFE CONSERVATION            564\n",
      "CHILDREN'S MUSEUM                                  512\n",
      "NATURAL HISTORY MUSEUM                             346\n",
      "Name: count, dtype: int64\n",
      "289\n",
      "110\n"
     ]
    }
   ],
   "source": [
    "type_count  = muse_df['Museum Type'].value_counts()\n",
    "zoo_count = muse_df['Museum Name'].str.contains('zoo', case=False).sum()\n",
    "aquarium_count = muse_df['Museum Name'].str.contains('AQUARIUM', case=False).sum()\n",
    "\n",
    "# There are 564 zoos or aquariums in the USA\n",
    "print(type_count)\n",
    "\n",
    "# There are 289 zoos \n",
    "print(zoo_count)\n",
    "\n",
    "# There are 111 aquariums\n",
    "print(aquarium_count)"
   ]
  },
  {
   "cell_type": "code",
   "execution_count": 95,
   "metadata": {},
   "outputs": [
    {
     "name": "stdout",
     "output_type": "stream",
     "text": [
      "FRED LAWRENCE WHIPPLE OBSERVATORY\n",
      "5840349457.0\n"
     ]
    }
   ],
   "source": [
    "# Shows museum with the highest revenue and amount of revenue\n",
    "max_revenue = muse_df['Revenue'].idxmax()\n",
    "\n",
    "max_revenue_name = muse_df.loc[max_revenue, 'Museum Name']\n",
    "max_revenue_number = muse_df.loc[max_revenue, 'Revenue']\n",
    "\n",
    "print(max_revenue_name)\n",
    "print(max_revenue_number)"
   ]
  },
  {
   "cell_type": "code",
   "execution_count": 96,
   "id": "5601b569-791e-44db-bc9a-7c17e3e63c3b",
   "metadata": {},
   "outputs": [
    {
     "name": "stdout",
     "output_type": "stream",
     "text": [
      "Museum Type\n",
      "HISTORIC PRESERVATION                            0.449367\n",
      "GENERAL MUSEUM                                   0.263010\n",
      "ART MUSEUM                                       0.098001\n",
      "HISTORY MUSEUM                                   0.069064\n",
      "ARBORETUM, BOTANICAL GARDEN, OR NATURE CENTER    0.044873\n",
      "SCIENCE & TECHNOLOGY MUSEUM OR PLANETARIUM       0.032687\n",
      "ZOO, AQUARIUM, OR WILDLIFE CONSERVATION          0.017054\n",
      "CHILDREN'S MUSEUM                                0.015482\n",
      "NATURAL HISTORY MUSEUM                           0.010462\n",
      "Name: proportion, dtype: float64\n"
     ]
    }
   ],
   "source": [
    "# the composition of the different museum types in the USA\n",
    "type_composition = muse_df['Museum Type'].value_counts(normalize= True)\n",
    "\n",
    "print(type_composition)"
   ]
  },
  {
   "cell_type": "code",
   "execution_count": 102,
   "id": "14108081-962c-4d8b-a6c2-66019917916d",
   "metadata": {},
   "outputs": [
    {
     "name": "stdout",
     "output_type": "stream",
     "text": [
      "Revenue        Income        Museum Type                                  \n",
      "-1.799709e+06  3.811200e+05  GENERAL MUSEUM                                   1.00\n",
      "-1.723674e+06  1.443401e+06  SCIENCE & TECHNOLOGY MUSEUM OR PLANETARIUM       1.00\n",
      "-5.988130e+05  1.942400e+05  SCIENCE & TECHNOLOGY MUSEUM OR PLANETARIUM       1.00\n",
      "-5.676300e+05  1.561679e+06  HISTORY MUSEUM                                   1.00\n",
      "-4.960610e+05  1.812460e+05  GENERAL MUSEUM                                   1.00\n",
      "                                                                              ... \n",
      " 5.840349e+09  8.318144e+10  SCIENCE & TECHNOLOGY MUSEUM OR PLANETARIUM       0.20\n",
      "                             ARBORETUM, BOTANICAL GARDEN, OR NATURE CENTER    0.15\n",
      "                             ART MUSEUM                                       0.15\n",
      "                             HISTORIC PRESERVATION                            0.05\n",
      "                             NATURAL HISTORY MUSEUM                           0.05\n",
      "Name: proportion, Length: 10730, dtype: float64\n"
     ]
    }
   ],
   "source": [
    "# statistical mesurment of the revenue & income of the museum types in the USA\n",
    "revenue_and_income_stats = muse_df.groupby(['Revenue', 'Income'])['Museum Type'].value_counts(normalize=True)\n",
    "print(revenue_and_income_stats)\n",
    "\n"
   ]
  },
  {
   "cell_type": "code",
   "execution_count": 118,
   "id": "e9cdd6af",
   "metadata": {},
   "outputs": [
    {
     "name": "stdout",
     "output_type": "stream",
     "text": [
      "State (Administrative Location)\n",
      "AK    1.004114e+06\n",
      "AL    2.023465e+06\n",
      "AR    3.234783e+06\n",
      "AZ    2.383515e+07\n",
      "CA    2.790066e+07\n",
      "CO    9.701295e+06\n",
      "CT    7.208299e+07\n",
      "DC    2.229338e+08\n",
      "DE    4.632561e+07\n",
      "FL    1.253726e+07\n",
      "GA    3.282254e+07\n",
      "HI    3.540033e+06\n",
      "IA    6.290750e+06\n",
      "ID    3.006555e+06\n",
      "IL    2.783391e+07\n",
      "IN    9.921964e+06\n",
      "KS    9.341979e+05\n",
      "KY    7.462724e+06\n",
      "LA    1.869974e+07\n",
      "MA    1.704354e+08\n",
      "MD    5.866493e+07\n",
      "ME    3.921195e+06\n",
      "MI    2.225086e+06\n",
      "MN    6.417199e+06\n",
      "MO    1.343344e+07\n",
      "MS    2.611419e+06\n",
      "MT    8.132607e+05\n",
      "NC    7.756243e+06\n",
      "ND    1.061709e+05\n",
      "NE    5.244708e+06\n",
      "NH    1.098031e+07\n",
      "NJ    6.112632e+06\n",
      "NM    7.218771e+05\n",
      "NV    8.223162e+05\n",
      "NY    2.717556e+07\n",
      "OH    4.622050e+06\n",
      "OK    1.759307e+06\n",
      "OR    3.626376e+06\n",
      "PA    1.966357e+07\n",
      "RI    4.068040e+07\n",
      "SC    6.621070e+06\n",
      "SD    3.574445e+06\n",
      "TN    3.780729e+07\n",
      "TX    1.079173e+07\n",
      "UT    2.815471e+06\n",
      "VA    5.103188e+06\n",
      "VT    4.036958e+06\n",
      "WA    5.638270e+06\n",
      "WI    3.332476e+06\n",
      "WV    1.662221e+06\n",
      "WY    4.845174e+05\n",
      "Name: Revenue, dtype: float64\n"
     ]
    },
    {
     "data": {
      "text/plain": [
       "Text(0.5, 1.0, 'Average Revenue per State')"
      ]
     },
     "execution_count": 118,
     "metadata": {},
     "output_type": "execute_result"
    },
    {
     "data": {
      "image/png": "[encoded data removed]",
      "text/plain": [
       "<Figure size 640x480 with 1 Axes>"
      ]
     },
     "metadata": {},
     "output_type": "display_data"
    }
   ],
   "source": [
    "import matplotlib.pyplot as plt\n",
    "\n",
    "state_revenue = muse_df.groupby('State (Administrative Location)')['Revenue'].mean()\n",
    "\n",
    "print(state_revenue)\n",
    "\n",
    "plt.bar(state_revenue.index, state_revenue)\n",
    "plt.xticks(rotation= 90)\n",
    "plt.xlabel('State')\n",
    "plt.ylabel('Average Revenue')\n",
    "plt.title('Average Revenue per State')\n",
    "\n"
   ]
  },
  {
   "cell_type": "code",
   "execution_count": null,
   "id": "260f969f",
   "metadata": {},
   "outputs": [],
   "source": [
    "!git add .\n",
    "!git commit -m \"Updated code for data analysis\""
   ]
  }
 ],
 "metadata": {
  "kernelspec": {
   "display_name": "Python 3 (ipykernel)",
   "language": "python",
   "name": "python3"
  },
  "language_info": {
   "codemirror_mode": {
    "name": "ipython",
    "version": 3
   },
   "file_extension": ".py",
   "mimetype": "text/x-python",
   "name": "python",
   "nbconvert_exporter": "python",
   "pygments_lexer": "ipython3",
   "version": "3.8.9"
  }
 },
 "nbformat": 4,
 "nbformat_minor": 5
}
